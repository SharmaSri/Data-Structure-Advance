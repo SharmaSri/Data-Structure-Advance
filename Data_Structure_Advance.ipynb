{
  "nbformat": 4,
  "nbformat_minor": 0,
  "metadata": {
    "colab": {
      "provenance": []
    },
    "kernelspec": {
      "name": "python3",
      "display_name": "Python 3"
    },
    "language_info": {
      "name": "python"
    }
  },
  "cells": [
    {
      "cell_type": "code",
      "execution_count": null,
      "metadata": {
        "id": "JHq-8Pyi7HCh"
      },
      "outputs": [],
      "source": []
    },
    {
      "cell_type": "markdown",
      "source": [
        " Write a code to reverse a string"
      ],
      "metadata": {
        "id": "Yev6e8of8Nhr"
      }
    },
    {
      "cell_type": "code",
      "source": [
        "a = \"Hello, World!\"\n",
        "print(a[::-1])"
      ],
      "metadata": {
        "colab": {
          "base_uri": "https://localhost:8080/"
        },
        "id": "r4VltMCD8QXP",
        "outputId": "13ff4a67-82ee-498a-896d-e8e9e688be30"
      },
      "execution_count": null,
      "outputs": [
        {
          "output_type": "stream",
          "name": "stdout",
          "text": [
            "!dlroW ,olleH\n"
          ]
        }
      ]
    },
    {
      "cell_type": "markdown",
      "source": [
        "Write a code to count the number of vowels in a string"
      ],
      "metadata": {
        "id": "5F1OmHun9e4X"
      }
    },
    {
      "cell_type": "code",
      "source": [
        "a = \"Eutopia\"\n",
        "vowels = \"aeiouAEIOU\"\n",
        "count = sum(1 for char in a if char in vowels)\n",
        "print(\"Number of vowels:\", count)"
      ],
      "metadata": {
        "colab": {
          "base_uri": "https://localhost:8080/"
        },
        "id": "t_sfIrLY90z8",
        "outputId": "68fb5f1e-0a82-4d8f-e289-71239f106794"
      },
      "execution_count": null,
      "outputs": [
        {
          "output_type": "stream",
          "name": "stdout",
          "text": [
            "Number of vowels: 5\n"
          ]
        }
      ]
    },
    {
      "cell_type": "markdown",
      "source": [
        "Write a code to check if a given string is a palindrome or not"
      ],
      "metadata": {
        "id": "O5HGfykc-0Qx"
      }
    },
    {
      "cell_type": "code",
      "source": [
        "a = \"rotator\"\n",
        "if a == a[::-1]:\n",
        "  print(\"The string is palindrome.\")\n",
        "else:\n",
        "    print(\"The string is not a palindrome.\")"
      ],
      "metadata": {
        "colab": {
          "base_uri": "https://localhost:8080/"
        },
        "id": "BUWY8niy-11c",
        "outputId": "de8a1b43-1120-4cbf-ba62-fbeb9053b18d"
      },
      "execution_count": null,
      "outputs": [
        {
          "output_type": "stream",
          "name": "stdout",
          "text": [
            "The string is palindrome.\n"
          ]
        }
      ]
    },
    {
      "cell_type": "markdown",
      "source": [
        "Write a code to check if two given strings are anagrams of each other"
      ],
      "metadata": {
        "id": "0cPKzR9P_3a9"
      }
    },
    {
      "cell_type": "code",
      "source": [
        "a = \"listen\"\n",
        "b = \"silent\"\n",
        "if sorted(a) == sorted(b):\n",
        "  print(\"The string is anagram.\")\n",
        "else:\n",
        "  print(\"The string is not anagram.\")"
      ],
      "metadata": {
        "colab": {
          "base_uri": "https://localhost:8080/"
        },
        "id": "kmNBNaL1BybX",
        "outputId": "27ea5e56-2ece-4c82-a251-415d552fe61e"
      },
      "execution_count": null,
      "outputs": [
        {
          "output_type": "stream",
          "name": "stdout",
          "text": [
            "The string is anagram.\n"
          ]
        }
      ]
    },
    {
      "cell_type": "markdown",
      "source": [
        "Write a code to find all occurrences of a given substring within another string"
      ],
      "metadata": {
        "id": "gAW-h4_dCYVr"
      }
    },
    {
      "cell_type": "code",
      "source": [
        "string = \"ababcabcabc\"\n",
        "substring = \"abc\"\n",
        "\n",
        "# Find all occurrences of the substring\n",
        "positions = []\n",
        "start = 0\n",
        "\n",
        "while True:\n",
        "    start = string.find(substring, start)\n",
        "    if start == -1:\n",
        "        break\n",
        "    positions.append(start)\n",
        "    start += len(substring)  # Move past the last found substring\n",
        "\n",
        "print(\"All occurrences are at positions:\", positions)\n"
      ],
      "metadata": {
        "colab": {
          "base_uri": "https://localhost:8080/"
        },
        "id": "IpiAD9Z6E0rc",
        "outputId": "bc80a99a-612c-4edd-9eb2-6c9f4aa86e66"
      },
      "execution_count": null,
      "outputs": [
        {
          "output_type": "stream",
          "name": "stdout",
          "text": [
            "All occurrences are at positions: [2, 5, 8]\n"
          ]
        }
      ]
    },
    {
      "cell_type": "markdown",
      "source": [
        "Write a code to perform basic string compression using the counts of repeated characters"
      ],
      "metadata": {
        "id": "88eCTQFgE5hh"
      }
    },
    {
      "cell_type": "code",
      "source": [
        "def compress_string(s):\n",
        "    # Edge case: empty string\n",
        "    if not s:\n",
        "        return \"\"\n",
        "\n",
        "    compressed = []\n",
        "    count = 1\n",
        "\n",
        "    for i in range(1, len(s)):\n",
        "        if s[i] == s[i - 1]:\n",
        "            count += 1\n",
        "        else:\n",
        "            compressed.append(s[i - 1] + str(count))\n",
        "            count = 1\n",
        "\n",
        "    # Add the last set of characters\n",
        "    compressed.append(s[-1] + str(count))\n",
        "\n",
        "    # Join list to form compressed string\n",
        "    compressed_str = ''.join(compressed)\n",
        "\n",
        "    # Return the compressed string if it's shorter; otherwise, the original\n",
        "    return compressed_str if len(compressed_str) < len(s) else s\n",
        "\n",
        "# Example usage\n",
        "print(compress_string(\"aabcccccaaa\"))\n",
        "print(compress_string(\"abcd\"))"
      ],
      "metadata": {
        "colab": {
          "base_uri": "https://localhost:8080/"
        },
        "id": "Ci0W6aD6Jgky",
        "outputId": "abce3ea4-04d5-41d8-8419-f89917e93b80"
      },
      "execution_count": null,
      "outputs": [
        {
          "output_type": "stream",
          "name": "stdout",
          "text": [
            "a2b1c5a3\n",
            "abcd\n"
          ]
        }
      ]
    },
    {
      "cell_type": "markdown",
      "source": [
        "  Write a code to determine if a string has all unique characters"
      ],
      "metadata": {
        "id": "_s_TAiTZOo-E"
      }
    },
    {
      "cell_type": "code",
      "source": [
        "def has_unique_characters(s):\n",
        "    # Using a set to track characters\n",
        "    seen_chars = set()\n",
        "\n",
        "    for char in s:\n",
        "        if char in seen_chars:\n",
        "            return False\n",
        "        seen_chars.add(char)\n",
        "\n",
        "    return True\n",
        "\n",
        "# Example usage\n",
        "print(has_unique_characters(\"abcdef\"))\n",
        "print(has_unique_characters(\"aabbcc\"))"
      ],
      "metadata": {
        "colab": {
          "base_uri": "https://localhost:8080/"
        },
        "id": "ruGvrCvjOxwC",
        "outputId": "361c392f-a451-415d-99be-736926573695"
      },
      "execution_count": null,
      "outputs": [
        {
          "output_type": "stream",
          "name": "stdout",
          "text": [
            "True\n",
            "False\n"
          ]
        }
      ]
    },
    {
      "cell_type": "markdown",
      "source": [
        "Write a code to convert a given string to uppercase or lowercase"
      ],
      "metadata": {
        "id": "j8Jk8x0_PDrb"
      }
    },
    {
      "cell_type": "code",
      "source": [
        "def convert_case(s, to_upper=True):\n",
        "  if to_upper:\n",
        "    return s.upper()\n",
        "  else:\n",
        "     return s.lower()\n",
        "\n",
        "print(convert_case(\"Hello World\", to_upper=True))\n",
        "print(convert_case(\"Hello World\", to_upper=False))\n",
        "\n"
      ],
      "metadata": {
        "colab": {
          "base_uri": "https://localhost:8080/"
        },
        "id": "yCNzJhblPNMn",
        "outputId": "627b6b63-35df-4a79-c71f-76df23071ce2"
      },
      "execution_count": null,
      "outputs": [
        {
          "output_type": "stream",
          "name": "stdout",
          "text": [
            "HELLO WORLD\n",
            "hello world\n"
          ]
        }
      ]
    },
    {
      "cell_type": "markdown",
      "source": [
        "Write a code to count the number of words in a string"
      ],
      "metadata": {
        "id": "polkUxxXQLLQ"
      }
    },
    {
      "cell_type": "code",
      "source": [
        "\n",
        "s = \"This is a test string.\"\n",
        "\n",
        "# Split the string by whitespace and count the words\n",
        "words = s.split()\n",
        "word_count = len(words)\n",
        "\n",
        "# Display the result\n",
        "print(\"Number of words:\", word_count)\n"
      ],
      "metadata": {
        "colab": {
          "base_uri": "https://localhost:8080/"
        },
        "id": "7Sy_RXTNQsFH",
        "outputId": "3bb0de85-1191-4895-d54c-514d90d3514d"
      },
      "execution_count": null,
      "outputs": [
        {
          "output_type": "stream",
          "name": "stdout",
          "text": [
            "Number of words: 5\n"
          ]
        }
      ]
    },
    {
      "cell_type": "markdown",
      "source": [
        "Write a code to concatenate two strings without using the + operator"
      ],
      "metadata": {
        "id": "5ddkjnUJQzKf"
      }
    },
    {
      "cell_type": "code",
      "source": [
        "\n",
        "str1 = \"Hello\"\n",
        "str2 = \"World\"\n",
        "\n",
        "\n",
        "result = \"\".join([str1, str2])\n",
        "\n",
        "\n",
        "print(\"Concatenated string:\", result)\n"
      ],
      "metadata": {
        "colab": {
          "base_uri": "https://localhost:8080/"
        },
        "id": "Rz6R5Y7lQ7r-",
        "outputId": "ca1d2fc1-3ae4-42b6-cc5e-53d9fe57b8be"
      },
      "execution_count": null,
      "outputs": [
        {
          "output_type": "stream",
          "name": "stdout",
          "text": [
            "Concatenated string: HelloWorld\n"
          ]
        }
      ]
    },
    {
      "cell_type": "markdown",
      "source": [
        "Write a code to remove all occurrences of a specific element from a list"
      ],
      "metadata": {
        "id": "D35HC2EyR0oh"
      }
    },
    {
      "cell_type": "code",
      "source": [
        "lst = [ 1, 2, 3, 4, 3, 5, 3]\n",
        "element_to_remove = 3\n",
        "\n",
        "result = [x for x in lst if x != element_to_remove]\n",
        "\n",
        "print(\"List after removal:\", result)"
      ],
      "metadata": {
        "colab": {
          "base_uri": "https://localhost:8080/"
        },
        "id": "lCfKgsw6R-xa",
        "outputId": "55e30c52-30b0-4984-fb85-724e46eb0a59"
      },
      "execution_count": null,
      "outputs": [
        {
          "output_type": "stream",
          "name": "stdout",
          "text": [
            "List after removal: [1, 2, 4, 5]\n"
          ]
        }
      ]
    },
    {
      "cell_type": "markdown",
      "source": [
        " Implement a code to find the second largest number in a given list of integers"
      ],
      "metadata": {
        "id": "3KNMUSu50I4g"
      }
    },
    {
      "cell_type": "code",
      "source": [
        "lst = [10, 20, 4, 45, 99]\n",
        "updated_lst = list(set(lst))\n",
        "updated_lst.sort(reverse=True)\n",
        "if len(updated_lst) >= 2:\n",
        "  second_largest = updated_lst[1]\n",
        "  print(\"The second largest number is:\", second_largest)\n",
        "else:\n",
        "  print(\"The list doesn't have a second largest number.\")"
      ],
      "metadata": {
        "colab": {
          "base_uri": "https://localhost:8080/"
        },
        "id": "Q0ewBowp0J85",
        "outputId": "b02b52b2-dcdc-488b-cc94-72876565cdeb"
      },
      "execution_count": null,
      "outputs": [
        {
          "output_type": "stream",
          "name": "stdout",
          "text": [
            "The second largest number is: 45\n"
          ]
        }
      ]
    },
    {
      "cell_type": "markdown",
      "source": [
        "Create a code to count the occurrences of each element in a list and return a dictionary with elements as\n",
        "keys and their counts as values"
      ],
      "metadata": {
        "id": "2KQ_kZuY2K7u"
      }
    },
    {
      "cell_type": "code",
      "source": [
        "# Input list\n",
        "lst = [1, 2, 2, 3, 3, 3, 4, 4, 4, 4, 1]\n",
        "\n",
        "# Initialize an empty dictionary to store counts\n",
        "count_dict = {}\n",
        "\n",
        "# Count occurrences of each element\n",
        "for element in lst:\n",
        "    if element in count_dict:\n",
        "        count_dict[element] += 1\n",
        "    else:\n",
        "        count_dict[element] = 1\n",
        "\n",
        "# Display the result\n",
        "print(\"Element counts:\", count_dict)\n"
      ],
      "metadata": {
        "colab": {
          "base_uri": "https://localhost:8080/"
        },
        "id": "Zng7toQc2f6H",
        "outputId": "cbf240aa-9bba-4585-d436-ebcbc5a85357"
      },
      "execution_count": null,
      "outputs": [
        {
          "output_type": "stream",
          "name": "stdout",
          "text": [
            "Element counts: {1: 2, 2: 2, 3: 3, 4: 4}\n"
          ]
        }
      ]
    },
    {
      "cell_type": "markdown",
      "source": [
        "Write a code to reverse a list in-place without using any built-in reverse functions"
      ],
      "metadata": {
        "id": "U0iSnMNLAOfa"
      }
    },
    {
      "cell_type": "code",
      "source": [
        "\n",
        "lst = [1, 2, 3, 4, 5]\n",
        "\n",
        "# Initialize two pointers\n",
        "left = 0\n",
        "right = len(lst) - 1\n",
        "\n",
        "# Swap elements while moving pointers towards each other\n",
        "while left < right:\n",
        "    # Swap the elements at left and right indices\n",
        "    lst[left], lst[right] = lst[right], lst[left]\n",
        "\n",
        "    # Move the pointers\n",
        "    left += 1\n",
        "    right -= 1\n",
        "\n",
        "# Display the result\n",
        "print(\"Reversed list:\", lst)\n"
      ],
      "metadata": {
        "colab": {
          "base_uri": "https://localhost:8080/"
        },
        "id": "5pDkQQqmAVKU",
        "outputId": "175c6ba7-abe5-4ed8-bb8b-e0403dd4eb16"
      },
      "execution_count": null,
      "outputs": [
        {
          "output_type": "stream",
          "name": "stdout",
          "text": [
            "Reversed list: [5, 4, 3, 2, 1]\n"
          ]
        }
      ]
    },
    {
      "cell_type": "markdown",
      "source": [
        "Implement a code to find and remove duplicates from a list while preserving the original order of\n",
        "elements"
      ],
      "metadata": {
        "id": "avi8iwdpAxjy"
      }
    },
    {
      "cell_type": "code",
      "source": [
        "\n",
        "lst = [1, 2, 2, 3, 4, 4, 5, 3, 6]\n",
        "\n",
        "# Initialize an empty list for unique elements and a set to track seen elements\n",
        "updated_lst = []\n",
        "seen = set()\n",
        "\n",
        "# Iterate through the original list\n",
        "for element in lst:\n",
        "    if element not in seen:\n",
        "        updated_lst.append(element)\n",
        "        seen.add(element)\n",
        "\n",
        "# Display the result\n",
        "print(\"List after removing duplicates:\", updated_lst)\n"
      ],
      "metadata": {
        "colab": {
          "base_uri": "https://localhost:8080/"
        },
        "id": "CZMNRAk9A4Zt",
        "outputId": "2d8582ac-e2a5-4abf-9c97-bd0cdcc71af2"
      },
      "execution_count": null,
      "outputs": [
        {
          "output_type": "stream",
          "name": "stdout",
          "text": [
            "List after removing duplicates: [1, 2, 3, 4, 5, 6]\n"
          ]
        }
      ]
    },
    {
      "cell_type": "markdown",
      "source": [
        "Create a code to check if a given list is sorted (either in ascending or descending order) or not"
      ],
      "metadata": {
        "id": "5jZkCqyIBS7i"
      }
    },
    {
      "cell_type": "code",
      "source": [
        "lst = [1, 2, 3, 4, 5]\n",
        "\n",
        "# Check if the list is sorted in ascending order\n",
        "is_ascending = all(lst[i] <= lst[i + 1] for i in range(len(lst) - 1))\n",
        "\n",
        "# Check if the list is sorted in descending order\n",
        "is_descending = all(lst[i] >= lst[i + 1] for i in range(len(lst) - 1))\n",
        "\n",
        "# Determine if the list is sorted\n",
        "if is_ascending:\n",
        "    print(\"The list is sorted in ascending order.\")\n",
        "elif is_descending:\n",
        "    print(\"The list is sorted in descending order.\")\n",
        "else:\n",
        "    print(\"The list is not sorted.\")\n"
      ],
      "metadata": {
        "colab": {
          "base_uri": "https://localhost:8080/"
        },
        "id": "iFZPVOnmBmix",
        "outputId": "e9bd74e0-0240-4124-c435-eeddf76fd85a"
      },
      "execution_count": null,
      "outputs": [
        {
          "output_type": "stream",
          "name": "stdout",
          "text": [
            "The list is sorted in ascending order.\n"
          ]
        }
      ]
    },
    {
      "cell_type": "markdown",
      "source": [
        "Write a code to merge two sorted lists into a single sorted list"
      ],
      "metadata": {
        "id": "ckTfOJxCB2Rh"
      }
    },
    {
      "cell_type": "code",
      "source": [
        "# Input sorted lists\n",
        "list1 = [1, 3, 5, 7]\n",
        "list2 = [2, 4, 6, 8]\n",
        "\n",
        "# Merge and sort the lists\n",
        "merged_list = sorted(list1 + list2)\n",
        "\n",
        "# Display the result\n",
        "print(\"Merged sorted list:\", merged_list)\n"
      ],
      "metadata": {
        "colab": {
          "base_uri": "https://localhost:8080/"
        },
        "id": "LG1XZ9pkB6Rs",
        "outputId": "9d6fb659-77d1-4256-86b4-e752f82f8f3f"
      },
      "execution_count": null,
      "outputs": [
        {
          "output_type": "stream",
          "name": "stdout",
          "text": [
            "Merged sorted list: [1, 2, 3, 4, 5, 6, 7, 8]\n"
          ]
        }
      ]
    },
    {
      "cell_type": "markdown",
      "source": [
        "Implement a code to find the intersection of two given lists"
      ],
      "metadata": {
        "id": "ArFs0dyHCqtJ"
      }
    },
    {
      "cell_type": "code",
      "source": [
        "list1 = [1, 2, 3, 4, 5]\n",
        "list2 = [4, 5, 6, 7, 8]\n",
        "\n",
        "# Find intersection using list comprehension\n",
        "intersection = [element for element in list1 if element in list2]\n",
        "\n",
        "# Display the result\n",
        "print(\"Intersection of the lists:\", intersection)\n"
      ],
      "metadata": {
        "colab": {
          "base_uri": "https://localhost:8080/"
        },
        "id": "vrtoITo_CzXm",
        "outputId": "1bb2f484-037a-419e-dcef-07b6b49a054a"
      },
      "execution_count": null,
      "outputs": [
        {
          "output_type": "stream",
          "name": "stdout",
          "text": [
            "Intersection of the lists: [4, 5]\n"
          ]
        }
      ]
    },
    {
      "cell_type": "markdown",
      "source": [
        "Create a code to find the union of two lists without duplicates"
      ],
      "metadata": {
        "id": "1twm_84OC_VR"
      }
    },
    {
      "cell_type": "code",
      "source": [
        "list1 = [1, 2, 3, 4, 5]\n",
        "list2 = [4, 5, 6, 7, 8]\n",
        "\n",
        "# Find union using set to remove duplicates\n",
        "union = list(set(list1).union(set(list2)))\n",
        "\n",
        "print(\"Union of the lists without duplicates:\", union)\n"
      ],
      "metadata": {
        "colab": {
          "base_uri": "https://localhost:8080/"
        },
        "id": "cjdQ_XyMDB-S",
        "outputId": "b1006c04-1ef2-42b2-bfad-fdbdf19b13e4"
      },
      "execution_count": null,
      "outputs": [
        {
          "output_type": "stream",
          "name": "stdout",
          "text": [
            "Union of the lists without duplicates: [1, 2, 3, 4, 5, 6, 7, 8]\n"
          ]
        }
      ]
    },
    {
      "cell_type": "markdown",
      "source": [
        "Write a code to shuffle a given list randomly without using any built-in shuffle functions"
      ],
      "metadata": {
        "id": "O1Uy4KgaRTYh"
      }
    },
    {
      "cell_type": "code",
      "source": [
        "import random\n",
        "\n",
        "lst = [1, 2, 3, 4, 5]\n",
        "\n",
        "# Shuffle the list manually\n",
        "for i in range(len(lst)):\n",
        "    # Generate a random index to swap with the current element\n",
        "    j = random.randint(0, len(lst) - 1)\n",
        "\n",
        "    # Swap elements at i and j\n",
        "    lst[i], lst[j] = lst[j], lst[i]\n",
        "\n",
        "# Display the shuffled list\n",
        "print(\"Shuffled list:\", lst)\n"
      ],
      "metadata": {
        "colab": {
          "base_uri": "https://localhost:8080/"
        },
        "id": "N1cwKcEyRwDH",
        "outputId": "73da8aa2-0410-47bf-c8a0-07e2d2185271"
      },
      "execution_count": null,
      "outputs": [
        {
          "output_type": "stream",
          "name": "stdout",
          "text": [
            "Shuffled list: [2, 4, 3, 5, 1]\n"
          ]
        }
      ]
    },
    {
      "cell_type": "markdown",
      "source": [
        "Write a code that takes two tuples as input and returns a new tuple containing elements that are\n",
        "common to both input tuples"
      ],
      "metadata": {
        "id": "vqN1ZxrSSI1F"
      }
    },
    {
      "cell_type": "code",
      "source": [
        "tuple1 = (1, 2, 3, 4, 5)\n",
        "tuple2 = (4, 5, 6, 7, 8)\n",
        "\n",
        "# Find common elements using set intersection and convert it back to a tuple\n",
        "common_elements = tuple(set(tuple1).intersection(set(tuple2)))\n",
        "\n",
        "# Display the result\n",
        "print(\"Common elements:\", common_elements)\n"
      ],
      "metadata": {
        "colab": {
          "base_uri": "https://localhost:8080/"
        },
        "id": "V_C2nHQvSYjg",
        "outputId": "fe2f5715-ade1-4c11-f991-e72fea4df723"
      },
      "execution_count": null,
      "outputs": [
        {
          "output_type": "stream",
          "name": "stdout",
          "text": [
            "Common elements: (4, 5)\n"
          ]
        }
      ]
    },
    {
      "cell_type": "markdown",
      "source": [
        " Create a code that prompts the user to enter two sets of integers separated by commas. Then, print the\n",
        "intersection of these two sets"
      ],
      "metadata": {
        "id": "CkPtROviStek"
      }
    },
    {
      "cell_type": "code",
      "source": [
        "\n",
        "set1_input = input(\"Enter the first set of integers (separated by commas): \")\n",
        "set1 = set(map(int, set1_input.split(',')))\n",
        "\n",
        "set2_input = input(\"Enter the second set of integers (separated by commas): \")\n",
        "set2 = set(map(int, set2_input.split(',')))\n",
        "\n",
        "\n",
        "intersection = set1.intersection(set2)\n",
        "print(\"Intersection of the two sets:\", intersection)\n"
      ],
      "metadata": {
        "colab": {
          "base_uri": "https://localhost:8080/"
        },
        "id": "AhnKfCa0S_L6",
        "outputId": "6a82c4fd-dd03-4166-feb8-7b33de31d9bf"
      },
      "execution_count": null,
      "outputs": [
        {
          "output_type": "stream",
          "name": "stdout",
          "text": [
            "Enter the first set of integers (separated by commas): 3,4,7,6,5,4\n",
            "Enter the second set of integers (separated by commas): 3,2,1,5,4,3,2\n",
            "Intersection of the two sets: {3, 4, 5}\n"
          ]
        }
      ]
    },
    {
      "cell_type": "markdown",
      "source": [
        "Write a code to concatenate two tuples. The function should take two tuples as input and return a new\n",
        "tuple containing elements from both input tuples."
      ],
      "metadata": {
        "id": "-yAlibTUVEyF"
      }
    },
    {
      "cell_type": "code",
      "source": [
        "def concatenate_tuples(tuple1, tuple2):\n",
        "    # Concatenate the two tuples and return the result\n",
        "    return tuple1 + tuple2\n",
        "\n",
        "# Example usage\n",
        "tuple1 = (1, 2, 3)\n",
        "tuple2 = (4, 5, 6)\n",
        "\n",
        "result = concatenate_tuples(tuple1, tuple2)\n",
        "print(\"Concatenated tuple:\", result)\n"
      ],
      "metadata": {
        "colab": {
          "base_uri": "https://localhost:8080/"
        },
        "id": "wrIWl7pLVPjQ",
        "outputId": "decd1be6-49a6-4d26-92df-6be46628ec26"
      },
      "execution_count": null,
      "outputs": [
        {
          "output_type": "stream",
          "name": "stdout",
          "text": [
            "Concatenated tuple: (1, 2, 3, 4, 5, 6)\n"
          ]
        }
      ]
    },
    {
      "cell_type": "markdown",
      "source": [
        "Develop a code that prompts the user to input two sets of strings. Then, print the elements that are\n",
        "present in the first set but not in the second set"
      ],
      "metadata": {
        "id": "gStm7XaxVwNB"
      }
    },
    {
      "cell_type": "code",
      "source": [
        "set1_input = input(\"Enter the first set of strings (separated by commas): \")\n",
        "set1 = set(set1_input.split(','))\n",
        "\n",
        "\n",
        "set2_input = input(\"Enter the second set of strings (separated by commas): \")\n",
        "set2 = set(set2_input.split(','))\n",
        "\n",
        "\n",
        "difference = set1 - set2\n",
        "print(\"Elements in the first set but not in the second set:\", difference)\n"
      ],
      "metadata": {
        "colab": {
          "base_uri": "https://localhost:8080/"
        },
        "id": "mpvOsVOnWbmT",
        "outputId": "3de0e7b3-8c62-4408-fb5f-687600607f9c"
      },
      "execution_count": null,
      "outputs": [
        {
          "output_type": "stream",
          "name": "stdout",
          "text": [
            "Enter the first set of strings (separated by commas): John,Kym,Eric\n",
            "Enter the second set of strings (separated by commas): Eric,Deb,Marie\n",
            "Elements in the first set but not in the second set: {'John', 'Kym'}\n"
          ]
        }
      ]
    },
    {
      "cell_type": "markdown",
      "source": [
        "Create a code that takes a tuple and two integers as input. The function should return a new tuple\n",
        "containing elements from the original tuple within the specified range of indices"
      ],
      "metadata": {
        "id": "CNX9ZCPeXCps"
      }
    },
    {
      "cell_type": "code",
      "source": [
        "original_tuple = (10, 20, 30, 40, 50, 60)\n",
        "start_index = 1\n",
        "end_index = 4\n",
        "\n",
        "# Extracting the subtuple using slicing\n",
        "subtuple = original_tuple[start_index:end_index]\n",
        "\n",
        "\n",
        "print(subtuple)\n"
      ],
      "metadata": {
        "colab": {
          "base_uri": "https://localhost:8080/"
        },
        "id": "eWzAvXFBlj1-",
        "outputId": "9355fbc2-6792-43f3-8b59-04cfdf23ac34"
      },
      "execution_count": null,
      "outputs": [
        {
          "output_type": "stream",
          "name": "stdout",
          "text": [
            "(20, 30, 40)\n"
          ]
        }
      ]
    },
    {
      "cell_type": "markdown",
      "source": [
        "Write a code that prompts the user to input two sets of characters. Then, print the union of these two sets."
      ],
      "metadata": {
        "id": "utQFSz7nqCG-"
      }
    },
    {
      "cell_type": "code",
      "source": [
        "set1 = set(input(\"Enter the first set of characters (no spaces): \"))\n",
        "set2 = set(input(\"Enter the second set of characters (no spaces): \"))\n",
        "\n",
        "# Calculate the union of the two sets\n",
        "union_set = set1.union(set2)\n",
        "\n",
        "# Print the result\n",
        "print(\"The union of the two sets is:\", union_set)\n"
      ],
      "metadata": {
        "colab": {
          "base_uri": "https://localhost:8080/"
        },
        "id": "hkZRc34IqkC5",
        "outputId": "ec5d0765-e6e1-46bf-e670-52f15847cfba"
      },
      "execution_count": null,
      "outputs": [
        {
          "output_type": "stream",
          "name": "stdout",
          "text": [
            "Enter the first set of characters (no spaces): 2345432\n",
            "Enter the second set of characters (no spaces): 67897642\n",
            "The union of the two sets is: {'7', '9', '6', '2', '5', '3', '4', '8'}\n"
          ]
        }
      ]
    },
    {
      "cell_type": "markdown",
      "source": [
        "Develop a code that takes a tuple of integers as input. The function should return the maximum and\n",
        "minimum values from the tuple using tuple unpacking"
      ],
      "metadata": {
        "id": "dRNIxTfMq4Pr"
      }
    },
    {
      "cell_type": "code",
      "source": [
        "numbers = (3, 1, 4, 1, 5, 9, 2, 6, 5)\n",
        "\n",
        "# Find the maximum and minimum values\n",
        "max_value, min_value = max(numbers), min(numbers)\n",
        "\n",
        "# Print the results\n",
        "print(f\"Maximum value: {max_value}, Minimum value: {min_value}\")\n"
      ],
      "metadata": {
        "colab": {
          "base_uri": "https://localhost:8080/"
        },
        "id": "ewYYOgSNrlDR",
        "outputId": "53e1a0ca-afa2-4815-ccf1-a99457acda93"
      },
      "execution_count": null,
      "outputs": [
        {
          "output_type": "stream",
          "name": "stdout",
          "text": [
            "Maximum value: 9, Minimum value: 1\n"
          ]
        }
      ]
    },
    {
      "cell_type": "markdown",
      "source": [
        "Create a code that defines two sets of integers. Then, print the union, intersection, and difference of these\n",
        "two sets"
      ],
      "metadata": {
        "id": "KuzQqEjHsH2e"
      }
    },
    {
      "cell_type": "code",
      "source": [
        "set1 = {1, 2, 3, 4, 5}\n",
        "set2 = {4, 5, 6, 7, 8}\n",
        "\n",
        "# Compute the union, intersection, and differences\n",
        "union_set = set1.union(set2)\n",
        "intersection_set = set1.intersection(set2)\n",
        "difference_set1 = set1.difference(set2)\n",
        "difference_set2 = set2.difference(set1)\n",
        "\n",
        "# Print the results\n",
        "print(\"Set 1:\", set1)\n",
        "print(\"Set 2:\", set2)\n",
        "print(\"Union:\", union_set)\n",
        "print(\"Intersection:\", intersection_set)\n",
        "print(\"Difference (Set1 - Set2):\", difference_set1)\n",
        "print(\"Difference (Set2 - Set1):\", difference_set2)\n"
      ],
      "metadata": {
        "colab": {
          "base_uri": "https://localhost:8080/"
        },
        "id": "SvTCsaUksN7j",
        "outputId": "2e1ae385-daf6-4e8c-b4b9-3b1ba260fe2e"
      },
      "execution_count": null,
      "outputs": [
        {
          "output_type": "stream",
          "name": "stdout",
          "text": [
            "Set 1: {1, 2, 3, 4, 5}\n",
            "Set 2: {4, 5, 6, 7, 8}\n",
            "Union: {1, 2, 3, 4, 5, 6, 7, 8}\n",
            "Intersection: {4, 5}\n",
            "Difference (Set1 - Set2): {1, 2, 3}\n",
            "Difference (Set2 - Set1): {8, 6, 7}\n"
          ]
        }
      ]
    },
    {
      "cell_type": "markdown",
      "source": [
        "Write a code that takes a tuple and an element as input. The function should return the count of\n",
        "occurrences of the given element in the tuple"
      ],
      "metadata": {
        "id": "79T2rW9ysjpw"
      }
    },
    {
      "cell_type": "code",
      "source": [
        "input_tuple = (1, 2, 3, 2, 4, 2, 5)\n",
        "element_to_count = 2\n",
        "\n",
        "# Count occurrences of the element in the tuple\n",
        "occurrences = input_tuple.count(element_to_count)\n",
        "\n",
        "print(f\"The element {element_to_count} occurs {occurrences} times in the tuple.\")\n"
      ],
      "metadata": {
        "colab": {
          "base_uri": "https://localhost:8080/"
        },
        "id": "O2FlElKxs4l-",
        "outputId": "b57f0aa0-9bb2-4d73-9c03-5fd0eb9fce95"
      },
      "execution_count": null,
      "outputs": [
        {
          "output_type": "stream",
          "name": "stdout",
          "text": [
            "The element 2 occurs 3 times in the tuple.\n"
          ]
        }
      ]
    },
    {
      "cell_type": "markdown",
      "source": [
        "Develop a code that prompts the user to input two sets of strings. Then, print the symmetric difference of\n",
        "these two sets"
      ],
      "metadata": {
        "id": "ibN3aOWLufIP"
      }
    },
    {
      "cell_type": "code",
      "source": [
        "set1 = set(input(\"Enter the first set of strings, separated by spaces: \").split())\n",
        "set2 = set(input(\"Enter the second set of strings, separated by spaces: \").split())\n",
        "\n",
        "# Calculate the symmetric difference of the two sets\n",
        "symmetric_difference = set1.symmetric_difference(set2)\n",
        "\n",
        "# Print the result\n",
        "print(\"The symmetric difference of the two sets is:\", symmetric_difference)\n"
      ],
      "metadata": {
        "colab": {
          "base_uri": "https://localhost:8080/"
        },
        "id": "crgc3Ca3ukma",
        "outputId": "9ff23426-2adf-4bfe-e6b3-d1a8f06bd4c1"
      },
      "execution_count": null,
      "outputs": [
        {
          "output_type": "stream",
          "name": "stdout",
          "text": [
            "Enter the first set of strings, separated by spaces: 'sri', 'akash', 'kabir', 'aadi'\n",
            "Enter the second set of strings, separated by spaces: 'sri', 'kim', 'john'\n",
            "The symmetric difference of the two sets is: {\"'john'\", \"'kabir',\", \"'kim',\", \"'akash',\", \"'aadi'\"}\n"
          ]
        }
      ]
    },
    {
      "cell_type": "markdown",
      "source": [
        "Write a code that takes a list of words as input and returns a dictionary where the keys are unique words\n",
        "and the values are the frequencies of those words in the input list"
      ],
      "metadata": {
        "id": "R6DR4dabvVit"
      }
    },
    {
      "cell_type": "code",
      "source": [
        "words = input(\"Enter a list of words, separated by spaces: \").split()\n",
        "\n",
        "# Create a dictionary to store word frequencies\n",
        "word_freq = {}\n",
        "\n",
        "# Loop through each word in the list\n",
        "for word in words:\n",
        "    # If the word is already in the dictionary, increment its count\n",
        "    if word in word_freq:\n",
        "        word_freq[word] += 1\n",
        "    # If the word is not in the dictionary, add it with count 1\n",
        "    else:\n",
        "        word_freq[word] = 1\n",
        "\n",
        "print(\"Word frequencies:\", word_freq)\n"
      ],
      "metadata": {
        "colab": {
          "base_uri": "https://localhost:8080/"
        },
        "id": "kkn5JxEAvZYd",
        "outputId": "444caeda-d7df-469c-f59a-7a78a6db12a5"
      },
      "execution_count": null,
      "outputs": [
        {
          "output_type": "stream",
          "name": "stdout",
          "text": [
            "Enter a list of words, separated by spaces: sri, rashmi, rashmi, sri, neha, mandy\n",
            "Word frequencies: {'sri,': 2, 'rashmi,': 2, 'neha,': 1, 'mandy': 1}\n"
          ]
        }
      ]
    },
    {
      "cell_type": "markdown",
      "source": [
        "Write a code that takes two dictionaries as input and merges them into a single dictionary. If there are\n",
        "common keys, the values should be added together"
      ],
      "metadata": {
        "id": "aV1PmGFDv_ps"
      }
    },
    {
      "cell_type": "code",
      "source": [
        "dict1 = eval(input(\"Enter the first dictionary: \"))\n",
        "dict2 = eval(input(\"Enter the second dictionary: \"))\n",
        "\n",
        "# Merge the dictionaries and add values for common keys\n",
        "merged_dict = dict1.copy()  # Start with a copy of the first dictionary\n",
        "\n",
        "for key, value in dict2.items():\n",
        "    if key in merged_dict:\n",
        "        merged_dict[key] += value  # Add values if the key is already in merged_dict\n",
        "    else:\n",
        "        merged_dict[key] = value  # Otherwise, add the new key-value pair\n",
        "\n",
        "# Print the resulting merged dictionary\n",
        "print(\"Merged dictionary:\", merged_dict)\n"
      ],
      "metadata": {
        "id": "UmQ2pByUqU7A",
        "colab": {
          "base_uri": "https://localhost:8080/"
        },
        "outputId": "c9834896-7e75-4c55-cbf2-ded3aa52b7b2"
      },
      "execution_count": 8,
      "outputs": [
        {
          "output_type": "stream",
          "name": "stdout",
          "text": [
            "Enter the first dictionary: {'a' : 1, 'b' : 3, 'c' : 9}\n",
            "Enter the second dictionary: {'a' : 2, 'b' : 9, 'c' : 7}\n",
            "Merged dictionary: {'a': 3, 'b': 12, 'c': 16}\n"
          ]
        }
      ]
    },
    {
      "cell_type": "markdown",
      "source": [
        "Write a code to access a value in a nested dictionary. The function should take the dictionary and a list of\n",
        "keys as input, and return the corresponding value. If any of the keys do not exist in the dictionary, the\n",
        "function should return None"
      ],
      "metadata": {
        "id": "fazYiSyPtJWm"
      }
    },
    {
      "cell_type": "code",
      "source": [
        "# Define a nested dictionary\n",
        "nested_dict = {\n",
        "    'a': {\n",
        "        'b': {\n",
        "            'c': 42,\n",
        "            'd': 10\n",
        "        },\n",
        "        'e': 15\n",
        "    },\n",
        "    'f': 30\n",
        "}\n",
        "\n",
        "# List of keys to traverse the dictionary\n",
        "keys = ['a', 'b', 'c']\n",
        "\n",
        "# Start from the top-level dictionary\n",
        "current = nested_dict\n",
        "\n",
        "# Traverse the dictionary using the keys\n",
        "for key in keys:\n",
        "    # Check if the current level is a dictionary and the key exists\n",
        "    if isinstance(current, dict) and key in current:\n",
        "        current = current[key]  # Move to the next level\n",
        "    else:\n",
        "        # If key doesn't exist or the current level isn't a dictionary, set to None\n",
        "        current = None\n",
        "        break\n",
        "\n",
        "# Print the result\n",
        "if current is not None:\n",
        "    print(\"Value:\", current)\n",
        "else:\n",
        "    print(\"Key path not found.\")\n"
      ],
      "metadata": {
        "id": "08LPg03by301",
        "colab": {
          "base_uri": "https://localhost:8080/"
        },
        "outputId": "1b5bb9be-03c5-403f-a48e-d738170645c6"
      },
      "execution_count": 4,
      "outputs": [
        {
          "output_type": "stream",
          "name": "stdout",
          "text": [
            "Value: 42\n"
          ]
        }
      ]
    },
    {
      "cell_type": "markdown",
      "source": [
        "Write a code that takes a dictionary as input and returns a sorted version of it based on the values. You\n",
        "can choose whether to sort in ascending or descending order"
      ],
      "metadata": {
        "id": "h4YStbC1zhwD"
      }
    },
    {
      "cell_type": "code",
      "source": [
        "input_dict = eval(input(\"Enter a dictionary (e.g., {'a': 3, 'b': 1, 'c': 2}): \"))\n",
        "\n",
        "# Ask the user whether to sort in ascending or descending order\n",
        "order = input(\"Sort in ascending or descending order? (asc/desc): \").strip().lower()\n",
        "\n",
        "# Determine the sort order\n",
        "reverse = order == \"desc\"  # True for descending, False for ascending\n",
        "\n",
        "# Sort the dictionary by values\n",
        "sorted_dict = dict(sorted(input_dict.items(), key=lambda item: item[1], reverse=reverse))\n",
        "\n",
        "# Print the sorted dictionary\n",
        "print(\"Sorted dictionary:\", sorted_dict)\n"
      ],
      "metadata": {
        "id": "LbCsL0f30U-c",
        "colab": {
          "base_uri": "https://localhost:8080/"
        },
        "outputId": "9023db21-717d-4ace-889f-7c9fc923abc7"
      },
      "execution_count": 6,
      "outputs": [
        {
          "output_type": "stream",
          "name": "stdout",
          "text": [
            "Enter a dictionary (e.g., {'a': 3, 'b': 1, 'c': 2}): {'a' : 4, 'b' : 8, 'c' : 3}\n",
            "Sort in ascending or descending order? (asc/desc): desc\n",
            "Sorted dictionary: {'b': 8, 'a': 4, 'c': 3}\n"
          ]
        }
      ]
    },
    {
      "cell_type": "markdown",
      "source": [
        "Write a code that inverts a dictionary, swapping keys and values. Ensure that the inverted dictionary\n",
        "correctly handles cases where multiple keys have the same value by storing the keys as a list in the\n",
        "inverted dictionary"
      ],
      "metadata": {
        "id": "miDbdLRj1OKh"
      }
    },
    {
      "cell_type": "code",
      "source": [
        "input_dict = eval(input(\"Enter a dictionary (e.g., {'a': 1, 'b': 2, 'c': 1}): \"))\n",
        "\n",
        "# Create an empty dictionary for the inverted result\n",
        "inverted_dict = {}\n",
        "\n",
        "# Loop through each key-value pair in the input dictionary\n",
        "for key, value in input_dict.items():\n",
        "    # If the value is already a key in the inverted dictionary, append the key to the list\n",
        "    if value in inverted_dict:\n",
        "        inverted_dict[value].append(key)\n",
        "    else:\n",
        "        # Otherwise, add the value as a key and the current key as a list\n",
        "        inverted_dict[value] = [key]\n",
        "\n",
        "# Print the inverted dictionary\n",
        "print(\"Inverted dictionary:\", inverted_dict)\n"
      ],
      "metadata": {
        "id": "Kn510Lp11sUm",
        "colab": {
          "base_uri": "https://localhost:8080/"
        },
        "outputId": "e4e34588-b527-4a9f-cd93-a62e173cbd78"
      },
      "execution_count": 7,
      "outputs": [
        {
          "output_type": "stream",
          "name": "stdout",
          "text": [
            "Enter a dictionary (e.g., {'a': 1, 'b': 2, 'c': 1}): {'a' : 5, 'b' : 4, 'c' : 9}\n",
            "Inverted dictionary: {5: ['a'], 4: ['b'], 9: ['c']}\n"
          ]
        }
      ]
    }
  ]
}